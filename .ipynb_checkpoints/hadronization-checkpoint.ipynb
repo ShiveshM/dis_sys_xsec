{
 "cells": [
  {
   "cell_type": "code",
   "execution_count": 1,
   "metadata": {
    "collapsed": true
   },
   "outputs": [],
   "source": [
    "%matplotlib inline"
   ]
  },
  {
   "cell_type": "code",
   "execution_count": 2,
   "metadata": {
    "collapsed": true
   },
   "outputs": [],
   "source": [
    "from __future__ import print_function\n",
    "import os"
   ]
  },
  {
   "cell_type": "code",
   "execution_count": 3,
   "metadata": {
    "collapsed": true
   },
   "outputs": [],
   "source": [
    "import ROOT\n",
    "import h5py"
   ]
  },
  {
   "cell_type": "code",
   "execution_count": 4,
   "metadata": {
    "collapsed": true
   },
   "outputs": [],
   "source": [
    "import numpy as np\n",
    "import numpy.ma as ma\n",
    "import matplotlib.pyplot as plt\n",
    "import matplotlib.gridspec as gridspec\n",
    "from mpl_toolkits.axes_grid.anchored_artists import AnchoredText"
   ]
  },
  {
   "cell_type": "code",
   "execution_count": 5,
   "metadata": {
    "collapsed": true
   },
   "outputs": [],
   "source": [
    "from uncertainties import ufloat, unumpy"
   ]
  },
  {
   "cell_type": "code",
   "execution_count": 6,
   "metadata": {
    "collapsed": true
   },
   "outputs": [],
   "source": [
    "def get_bin_sizes(bin_edges):\n",
    "    return np.abs(np.diff(bin_edges))"
   ]
  },
  {
   "cell_type": "code",
   "execution_count": 7,
   "metadata": {
    "collapsed": false
   },
   "outputs": [],
   "source": [
    "TYPE = 14\n",
    "TYPE_S = {14: 'numu', 12: 'nue'}\n",
    "DEFAULT_FILE_PATH = '/data/mandalia/hadron_xsec_pythia/default/'+TYPE_S[TYPE]+'/gntp.1.gst.root'\n",
    "MODIFIED_FILE_PATH = '/data/mandalia/hadron_xsec_pythia/pythia_parms/'+TYPE_S[TYPE]+'/gntp.1.gst.root'\n",
    "N_INDEX = 1.33"
   ]
  },
  {
   "cell_type": "code",
   "execution_count": 8,
   "metadata": {
    "collapsed": false
   },
   "outputs": [],
   "source": [
    "input_file_d = ROOT.TFile(DEFAULT_FILE_PATH)\n",
    "input_file_m = ROOT.TFile(MODIFIED_FILE_PATH)\n",
    "\n",
    "STR_R = ['Ev', 'El', 'neu', 'y', 'pdgf', 'nf', 'Ef', 'pxf', 'pyf', 'pzf', 'wght']\n",
    "SUB_STR = ['Ef', 'pxf', 'pyf', 'pzf', 'pdgf']\n",
    "default_dict, modified_dict = {key: [] for key in STR_R}, {key: [] for key in STR_R}\n",
    "\n",
    "for event in input_file_d.gst:\n",
    "    if event.dis and event.cc:\n",
    "        for parm in STR_R:\n",
    "            if parm in SUB_STR:\n",
    "                default_dict[parm].append(list(event.__getattr__(parm)))\n",
    "            else:\n",
    "                default_dict[parm].append(event.__getattr__(parm))\n",
    "for event in input_file_m.gst:\n",
    "    if event.dis and event.cc:\n",
    "        for parm in STR_R:\n",
    "            if parm in SUB_STR:\n",
    "                modified_dict[parm].append(list(event.__getattr__(parm)))\n",
    "            else:\n",
    "                modified_dict[parm].append(event.__getattr__(parm))\n",
    "\n",
    "for key in default_dict.iterkeys(): default_dict[key] = np.array(default_dict[key])\n",
    "for key in modified_dict.iterkeys(): modified_dict[key] = np.array(modified_dict[key])"
   ]
  },
  {
   "cell_type": "code",
   "execution_count": 9,
   "metadata": {
    "collapsed": true
   },
   "outputs": [],
   "source": [
    "def calculate_p2(px, py, pz):\n",
    "    sqr = lambda x: np.power(x, 2)\n",
    "    return np.array(map(sqr, px)) + np.array(map(sqr, py)) + np.array(map(sqr, pz))\n",
    "\n",
    "def calculate_beta(energy, px, py, pz):\n",
    "    p2 = calculate_p2(px, py, pz)\n",
    "    if np.any(energy < 0):\n",
    "        raise ValueError('energy < 0! {0}'.format(energy))\n",
    "    beta2 = p2 / np.array(map(lambda x: np.power(x, 2), energy))\n",
    "    beta = np.array(map(np.sqrt, beta2))\n",
    "    return beta"
   ]
  },
  {
   "cell_type": "code",
   "execution_count": 10,
   "metadata": {
    "collapsed": false
   },
   "outputs": [],
   "source": [
    "sqr = lambda x: np.power(x, 2)\n",
    "default_mass2 = np.array(map(sqr, default_dict['Ef'])) - calculate_p2(default_dict['pxf'], default_dict['pyf'], default_dict['pzf'])\n",
    "modified_mass2 = np.array(map(sqr, modified_dict['Ef'])) - calculate_p2(modified_dict['pxf'], modified_dict['pyf'], modified_dict['pzf'])\n",
    "\n",
    "for m in default_mass2:\n",
    "    assert(np.sum([m < -0.0001]) == 0)\n",
    "    m[m < 0] = 0\n",
    "for m in modified_mass2:\n",
    "    assert(np.sum([m < -0.0001]) == 0)\n",
    "    m[m < 0] = 0\n",
    "\n",
    "default_kin = default_dict['Ef'] - np.array(map(np.sqrt, default_mass2))\n",
    "modified_kin = modified_dict['Ef'] - np.array(map(np.sqrt, modified_mass2))"
   ]
  },
  {
   "cell_type": "code",
   "execution_count": 11,
   "metadata": {
    "collapsed": false
   },
   "outputs": [],
   "source": [
    "default_beta = calculate_beta(default_dict['Ef'], default_dict['pxf'], default_dict['pyf'], default_dict['pzf'])\n",
    "modified_beta = calculate_beta(modified_dict['Ef'], modified_dict['pxf'], modified_dict['pyf'], modified_dict['pzf'])\n",
    "\n",
    "default_above_thres = [beta > 1 / N_INDEX for beta in default_beta]\n",
    "modified_above_thres = [beta > 1 / N_INDEX for beta in modified_beta]"
   ]
  },
  {
   "cell_type": "code",
   "execution_count": 12,
   "metadata": {
    "collapsed": false
   },
   "outputs": [
    {
     "name": "stdout",
     "output_type": "stream",
     "text": [
      "set([-2112, 130, 3222, 11, 13, 22, 4122, 411, 2212, 421, -211, 431, 3122, 311, -321, 2112, 321, -311, -3122, 211, -2212, 111, -13, -12, -11])\n"
     ]
    }
   ],
   "source": [
    "default_pdg = default_dict['pdgf']\n",
    "modified_pdg = modified_dict['pdgf']\n",
    "print(set(np.hstack(default_pdg)))\n",
    "ignore = np.array([-2112, -12, 111, 130, 311, 421, 2112, 3122])\n",
    "\n",
    "default_pdg_mask, modified_pdg_mask = [], []\n",
    "for pdgs in default_pdg:\n",
    "    mask = []\n",
    "    for pdg in pdgs:\n",
    "        if pdg in ignore: mask.append(False)\n",
    "        else: mask.append(True)\n",
    "    default_pdg_mask.append(np.array(mask))\n",
    "for pdgs in modified_pdg:\n",
    "    mask = []\n",
    "    for pdg in pdgs:\n",
    "        if pdg in ignore: mask.append(False)\n",
    "        else: mask.append(True)\n",
    "    modified_pdg_mask.append(np.array(mask))"
   ]
  },
  {
   "cell_type": "code",
   "execution_count": 13,
   "metadata": {
    "collapsed": false
   },
   "outputs": [
    {
     "name": "stdout",
     "output_type": "stream",
     "text": [
      "[ 0.76640823  1.10543728]\n",
      "[ 1.10543728]\n"
     ]
    }
   ],
   "source": [
    "print(default_kin[0])\n",
    "for idx, kins in enumerate(default_kin): default_kin[idx] = kins[default_above_thres[idx] & default_pdg_mask[idx]]\n",
    "for idx, kins in enumerate(modified_kin): modified_kin[idx] = kins[modified_above_thres[idx] & modified_pdg_mask[idx]]\n",
    "print(default_kin[0])"
   ]
  },
  {
   "cell_type": "code",
   "execution_count": 14,
   "metadata": {
    "collapsed": false
   },
   "outputs": [],
   "source": [
    "default_kin_sum = np.array(map(np.sum, default_kin))\n",
    "modified_kin_sum = np.array(map(np.sum, modified_kin))"
   ]
  },
  {
   "cell_type": "code",
   "execution_count": 15,
   "metadata": {
    "collapsed": false
   },
   "outputs": [
    {
     "name": "stdout",
     "output_type": "stream",
     "text": [
      "[   1.10543728  104.50399216    1.57696751 ...,  232.42762882   59.19119314\n",
      "    4.97819135]\n",
      "[ 165.0080406     1.06070945   39.8568234  ...,   11.25365521   52.64150308\n",
      "  448.10871818]\n"
     ]
    }
   ],
   "source": [
    "print(default_kin_sum)\n",
    "print(modified_kin_sum)"
   ]
  },
  {
   "cell_type": "code",
   "execution_count": 16,
   "metadata": {
    "collapsed": false
   },
   "outputs": [],
   "source": [
    "default_yeff = default_kin_sum / (default_kin_sum + default_dict['El'])\n",
    "modified_yeff = modified_kin_sum / (modified_kin_sum + modified_dict['El'])"
   ]
  },
  {
   "cell_type": "code",
   "execution_count": 23,
   "metadata": {
    "collapsed": false
   },
   "outputs": [],
   "source": [
    "def make_plot(energy_nw, energy_w, binning, ylabel, outname):\n",
    "    fig = plt.figure(figsize=[10, 7])\n",
    "    if TYPE == 14:\n",
    "        fig.suptitle('numu', y=1.005)\n",
    "    elif TYPE == 12:\n",
    "        fig.suptitle('nue', y=1.005)\n",
    "        \n",
    "    gs = gridspec.GridSpec(2, 1)\n",
    "    gs.update(hspace=0., wspace=0.)\n",
    "    \n",
    "    ax0 = fig.add_subplot(gs[0])\n",
    "    ax0.set_xlim(np.min(binning), np.max(binning))\n",
    "    ax0.set_ylim([0, 250])\n",
    "    for xmaj in ax0.xaxis.get_majorticklocs():\n",
    "        ax0.axvline(x=xmaj, ls=':', color='gray', alpha=0.7, linewidth=1)\n",
    "    for ymaj in ax0.yaxis.get_majorticklocs():\n",
    "        ax0.axhline(y=ymaj, ls=':', color='gray', alpha=0.7, linewidth=1)\n",
    "    ax0.get_xaxis().set_ticks([])\n",
    "    ax0.set_ylabel(ylabel, size=18)\n",
    "    yticks = ax0.yaxis.get_major_ticks()\n",
    "    yticks[0].set_visible(False)\n",
    "    yticks[1].set_visible(False)\n",
    "    \n",
    "    energy_nw_0 = np.concatenate(([energy_nw[0]], energy_nw))\n",
    "    energy_w_0 = np.concatenate(([energy_w[0]], energy_w))\n",
    "    ax0.step(\n",
    "        binning, energy_nw_0, alpha=1, color='black', drawstyle='steps-mid', label='default', linewidth=1.2, linestyle='-'\n",
    "    )\n",
    "    ax0.step(\n",
    "        binning, energy_w_0, alpha=1, color='red', drawstyle='steps-mid', label='pythia params', linewidth=1.2, linestyle='-'\n",
    "    )\n",
    "    ax0.legend()\n",
    "    \n",
    "    ax1 = fig.add_subplot(gs[1])\n",
    "    ax1.set_xlim(np.min(binning), np.max(binning))\n",
    "    ax1.set_xlabel(r'$y_{eff}$', size=18)\n",
    "    ax1.set_ylabel('ratio', size=18)\n",
    "    ax1.set_ylim([0.8, 1.2])\n",
    "    for xmaj in ax1.xaxis.get_majorticklocs():\n",
    "        ax1.axvline(x=xmaj, ls=':', color='gray', alpha=0.7, linewidth=1)\n",
    "    for ymaj in ax1.yaxis.get_majorticklocs():\n",
    "        ax1.axhline(y=ymaj, ls=':', color='gray', alpha=0.7, linewidth=1)\n",
    "        \n",
    "    ratio = energy_w.astype(float) / energy_nw.astype(float)\n",
    "    ratio_0 = np.concatenate(([ratio[0]], ratio))\n",
    "    ax1.step(\n",
    "        binning, ratio_0, alpha=1, color='red', drawstyle='steps-pre', linewidth=1.2, linestyle='-'\n",
    "    )\n",
    "    ax1.step(\n",
    "        binning, np.ones(len(ratio_0)), alpha=1, color='black', drawstyle='steps-pre', linewidth=1.2, linestyle='-'\n",
    "    )\n",
    "\n",
    "    fig.tight_layout()\n",
    "    fig.savefig('./images/hadronization/'+outname, bbox_inches='tight')"
   ]
  },
  {
   "cell_type": "code",
   "execution_count": 24,
   "metadata": {
    "collapsed": false
   },
   "outputs": [
    {
     "name": "stderr",
     "output_type": "stream",
     "text": [
      "/.data/mandalia/programs/anaconda2/envs/pisa/lib/python2.7/site-packages/ipykernel/__main__.py:44: RuntimeWarning: invalid value encountered in divide\n"
     ]
    },
    {
     "data": {
      "image/png": "[encoded data removed]",
      "text/plain": [
       "<matplotlib.figure.Figure at 0x7f5052de7890>"
      ]
     },
     "metadata": {},
     "output_type": "display_data"
    }
   ],
   "source": [
    "binning = np.linspace(-0.2, 1.2, 50)\n",
    "\n",
    "default_hist, bins = np.histogram(default_yeff, bins=binning, weights=default_dict['wght'])\n",
    "modified_hist, bins = np.histogram(modified_yeff, bins=binning, weights=modified_dict['wght'])\n",
    "\n",
    "make_plot(default_hist, modified_hist, binning, r'N', './test.png')"
   ]
  }
 ],
 "metadata": {
  "kernelspec": {
   "display_name": "Python [pisa]",
   "language": "python",
   "name": "Python [pisa]"
  },
  "language_info": {
   "codemirror_mode": {
    "name": "ipython",
    "version": 2
   },
   "file_extension": ".py",
   "mimetype": "text/x-python",
   "name": "python",
   "nbconvert_exporter": "python",
   "pygments_lexer": "ipython2",
   "version": "2.7.12"
  }
 },
 "nbformat": 4,
 "nbformat_minor": 0
}

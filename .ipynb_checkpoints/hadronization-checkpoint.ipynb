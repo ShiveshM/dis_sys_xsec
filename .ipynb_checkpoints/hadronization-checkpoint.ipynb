{
 "cells": [
  {
   "cell_type": "code",
   "execution_count": 1,
   "metadata": {
    "collapsed": true
   },
   "outputs": [],
   "source": [
    "%matplotlib inline"
   ]
  },
  {
   "cell_type": "code",
   "execution_count": 2,
   "metadata": {
    "collapsed": true
   },
   "outputs": [],
   "source": [
    "from __future__ import print_function\n",
    "import os"
   ]
  },
  {
   "cell_type": "code",
   "execution_count": 3,
   "metadata": {
    "collapsed": true
   },
   "outputs": [],
   "source": [
    "import ROOT\n",
    "import h5py"
   ]
  },
  {
   "cell_type": "code",
   "execution_count": 4,
   "metadata": {
    "collapsed": true
   },
   "outputs": [],
   "source": [
    "import numpy as np\n",
    "import numpy.ma as ma\n",
    "import matplotlib.pyplot as plt\n",
    "import matplotlib.gridspec as gridspec\n",
    "from mpl_toolkits.axes_grid.anchored_artists import AnchoredText"
   ]
  },
  {
   "cell_type": "code",
   "execution_count": 5,
   "metadata": {
    "collapsed": true
   },
   "outputs": [],
   "source": [
    "from uncertainties import ufloat, unumpy"
   ]
  },
  {
   "cell_type": "code",
   "execution_count": 6,
   "metadata": {
    "collapsed": true
   },
   "outputs": [],
   "source": [
    "def get_bin_sizes(bin_edges):\n",
    "    return np.abs(np.diff(bin_edges))"
   ]
  },
  {
   "cell_type": "code",
   "execution_count": 7,
   "metadata": {
    "collapsed": false
   },
   "outputs": [],
   "source": [
    "TYPE = 14\n",
    "TYPE_S = {14: 'numu', 12: 'nue'}\n",
    "DEFAULT_FILE_PATH = '/data/mandalia/hadron_xsec_pythia/default/'+TYPE_S[TYPE]+'/gntp.1.gst.root'\n",
    "MODIFIED_FILE_PATH = '/data/mandalia/hadron_xsec_pythia/pythia_parms/'+TYPE_S[TYPE]+'/gntp.1.gst.root'\n",
    "N_INDEX = 1.33"
   ]
  },
  {
   "cell_type": "code",
   "execution_count": 8,
   "metadata": {
    "collapsed": false
   },
   "outputs": [],
   "source": [
    "input_file_d = ROOT.TFile(DEFAULT_FILE_PATH)\n",
    "input_file_m = ROOT.TFile(MODIFIED_FILE_PATH)\n",
    "\n",
    "STR_R = ['Ev', 'El', 'neu', 'y', 'W', 'pdgf', 'nf', 'Ef', 'pxf', 'pyf', 'pzf', 'wght']\n",
    "SUB_STR = ['Ef', 'pxf', 'pyf', 'pzf', 'pdgf']\n",
    "default_dict, modified_dict = {key: [] for key in STR_R}, {key: [] for key in STR_R}\n",
    "\n",
    "for event in input_file_d.gst:\n",
    "    if event.dis and event.cc:\n",
    "        for parm in STR_R:\n",
    "            if parm in SUB_STR:\n",
    "                default_dict[parm].append(list(event.__getattr__(parm)))\n",
    "            else:\n",
    "                default_dict[parm].append(event.__getattr__(parm))\n",
    "for event in input_file_m.gst:\n",
    "    if event.dis and event.cc:\n",
    "        for parm in STR_R:\n",
    "            if parm in SUB_STR:\n",
    "                modified_dict[parm].append(list(event.__getattr__(parm)))\n",
    "            else:\n",
    "                modified_dict[parm].append(event.__getattr__(parm))\n",
    "\n",
    "for key in default_dict.iterkeys(): default_dict[key] = np.array(default_dict[key])\n",
    "for key in modified_dict.iterkeys(): modified_dict[key] = np.array(modified_dict[key])"
   ]
  },
  {
   "cell_type": "code",
   "execution_count": 9,
   "metadata": {
    "collapsed": false
   },
   "outputs": [
    {
     "name": "stdout",
     "output_type": "stream",
     "text": [
      "(1000000,)\n",
      "(1000000,)\n"
     ]
    }
   ],
   "source": [
    "print(default_dict['Ev'].shape)\n",
    "print(modified_dict['Ev'].shape)"
   ]
  },
  {
   "cell_type": "code",
   "execution_count": 10,
   "metadata": {
    "collapsed": true
   },
   "outputs": [],
   "source": [
    "def calculate_p2(px, py, pz):\n",
    "    sqr = lambda x: np.power(x, 2)\n",
    "    return np.array(map(sqr, px)) + np.array(map(sqr, py)) + np.array(map(sqr, pz))\n",
    "\n",
    "def calculate_beta(energy, px, py, pz):\n",
    "    p2 = calculate_p2(px, py, pz)\n",
    "    if np.any(energy < 0):\n",
    "        raise ValueError('energy < 0! {0}'.format(energy))\n",
    "    beta2 = p2 / np.array(map(lambda x: np.power(x, 2), energy))\n",
    "    beta = np.array(map(np.sqrt, beta2))\n",
    "    return beta"
   ]
  },
  {
   "cell_type": "code",
   "execution_count": 11,
   "metadata": {
    "collapsed": false
   },
   "outputs": [],
   "source": [
    "sqr = lambda x: np.power(x, 2)\n",
    "default_mass2 = np.array(map(sqr, default_dict['Ef'])) - calculate_p2(default_dict['pxf'], default_dict['pyf'], default_dict['pzf'])\n",
    "modified_mass2 = np.array(map(sqr, modified_dict['Ef'])) - calculate_p2(modified_dict['pxf'], modified_dict['pyf'], modified_dict['pzf'])\n",
    "\n",
    "for m in default_mass2:\n",
    "    assert(np.sum([m < -0.0001]) == 0)\n",
    "    m[m < 0] = 0\n",
    "for m in modified_mass2:\n",
    "    assert(np.sum([m < -0.0001]) == 0)\n",
    "    m[m < 0] = 0\n",
    "\n",
    "default_kin = default_dict['Ef'] - np.array(map(np.sqrt, default_mass2))\n",
    "modified_kin = modified_dict['Ef'] - np.array(map(np.sqrt, modified_mass2))"
   ]
  },
  {
   "cell_type": "code",
   "execution_count": 12,
   "metadata": {
    "collapsed": false
   },
   "outputs": [],
   "source": [
    "default_beta = calculate_beta(default_dict['Ef'], default_dict['pxf'], default_dict['pyf'], default_dict['pzf'])\n",
    "modified_beta = calculate_beta(modified_dict['Ef'], modified_dict['pxf'], modified_dict['pyf'], modified_dict['pzf'])\n",
    "\n",
    "default_above_thres = [beta > 1 / N_INDEX for beta in default_beta]\n",
    "modified_above_thres = [beta > 1 / N_INDEX for beta in modified_beta]"
   ]
  },
  {
   "cell_type": "code",
   "execution_count": 13,
   "metadata": {
    "collapsed": false
   },
   "outputs": [
    {
     "name": "stdout",
     "output_type": "stream",
     "text": [
      "set([-2112, 130, 22, 11, 12, 13, 3222, 2212, -211, 3122, 311, -321, 2112, 321, -311, -3122, 211, -2212, 111, -14, -13, -12, -11])\n"
     ]
    }
   ],
   "source": [
    "default_pdg = default_dict['pdgf']\n",
    "modified_pdg = modified_dict['pdgf']\n",
    "print(set(np.hstack(default_pdg)))\n",
    "ignore = np.array([-2112, -12, 111, 130, 311, 421, 2112, 3122])\n",
    "\n",
    "default_pdg_mask, modified_pdg_mask = [], []\n",
    "for pdgs in default_pdg:\n",
    "    mask = []\n",
    "    for pdg in pdgs:\n",
    "        if pdg in ignore: mask.append(False)\n",
    "        else: mask.append(True)\n",
    "    default_pdg_mask.append(np.array(mask))\n",
    "for pdgs in modified_pdg:\n",
    "    mask = []\n",
    "    for pdg in pdgs:\n",
    "        if pdg in ignore: mask.append(False)\n",
    "        else: mask.append(True)\n",
    "    modified_pdg_mask.append(np.array(mask))"
   ]
  },
  {
   "cell_type": "code",
   "execution_count": 14,
   "metadata": {
    "collapsed": false
   },
   "outputs": [
    {
     "name": "stdout",
     "output_type": "stream",
     "text": [
      "[ 11.31596338   1.74688512  13.62482052  23.69955507  31.13763237\n",
      "   0.53283589   0.19537248   0.15145036   3.07648677   0.5358968\n",
      "   0.15029472   0.32958066]\n",
      "[ 11.31596338   1.74688512  13.62482052  23.69955507   0.53283589\n",
      "   0.15145036   3.07648677   0.5358968 ]\n"
     ]
    }
   ],
   "source": [
    "print(default_kin[0])\n",
    "for idx, kins in enumerate(default_kin): default_kin[idx] = kins[default_above_thres[idx] & default_pdg_mask[idx]]\n",
    "for idx, kins in enumerate(modified_kin): modified_kin[idx] = kins[modified_above_thres[idx] & modified_pdg_mask[idx]]\n",
    "print(default_kin[0])"
   ]
  },
  {
   "cell_type": "code",
   "execution_count": 15,
   "metadata": {
    "collapsed": false
   },
   "outputs": [],
   "source": [
    "default_kin_sum = np.array(map(np.sum, default_kin))\n",
    "modified_kin_sum = np.array(map(np.sum, modified_kin))"
   ]
  },
  {
   "cell_type": "code",
   "execution_count": 16,
   "metadata": {
    "collapsed": false
   },
   "outputs": [
    {
     "name": "stdout",
     "output_type": "stream",
     "text": [
      "[  54.68389389   10.13346176   56.94677528 ...,    3.72999271   38.23273136\n",
      "  149.57195309]\n",
      "[ 76.49050317  65.15549353   1.86357061 ...,   4.17799596  50.65965159\n",
      "   7.03573756]\n"
     ]
    }
   ],
   "source": [
    "print(default_kin_sum)\n",
    "print(modified_kin_sum)"
   ]
  },
  {
   "cell_type": "code",
   "execution_count": 17,
   "metadata": {
    "collapsed": false
   },
   "outputs": [
    {
     "name": "stdout",
     "output_type": "stream",
     "text": [
      "(1000000,)\n",
      "(1000000,)\n"
     ]
    }
   ],
   "source": [
    "default_yeff = default_kin_sum / (default_kin_sum + default_dict['El'])\n",
    "modified_yeff = modified_kin_sum / (modified_kin_sum + modified_dict['El'])\n",
    "print(default_yeff.shape)\n",
    "print(modified_yeff.shape)"
   ]
  },
  {
   "cell_type": "code",
   "execution_count": 18,
   "metadata": {
    "collapsed": false
   },
   "outputs": [],
   "source": [
    "def is_linear(edges, maxdev=1e-5):\n",
    "    \"\"\"\n",
    "    Check whether the bin edges are evenly spaced on a linear scale\n",
    "    \"\"\"\n",
    "    # Only 1 bin: might as well be linear\n",
    "    if len(edges) < 3:\n",
    "        return True\n",
    "    bin_widths = np.diff(edges)\n",
    "    return np.allclose(bin_widths, bin_widths[0], rtol=maxdev)\n",
    "\n",
    "def get_bin_centers(bin_edges):\n",
    "    if is_linear(bin_edges):\n",
    "        return (bin_edges[:-1] + bin_edges[1:])/2.\n",
    "    else:\n",
    "        return np.sqrt(bin_edges[:-1] * bin_edges[1:])"
   ]
  },
  {
   "cell_type": "code",
   "execution_count": 19,
   "metadata": {
    "collapsed": false
   },
   "outputs": [],
   "source": [
    "def make_plot(energy_nw, energy_w, binning, ylabel, legendlabel, outname, a):\n",
    "    centers = get_bin_centers(binning)\n",
    "    \n",
    "    fig = plt.figure(figsize=[10, 7])\n",
    "    if TYPE == 14:\n",
    "        fig.suptitle('numu', y=1.005)\n",
    "    elif TYPE == 12:\n",
    "        fig.suptitle('nue', y=1.005)\n",
    "        \n",
    "    gs = gridspec.GridSpec(2, 1)\n",
    "    gs.update(hspace=0., wspace=0.)\n",
    "    \n",
    "    ax0 = fig.add_subplot(gs[0])\n",
    "    ax0.set_xlim(np.min(binning), np.max(binning))\n",
    "    if not is_linear(binning):\n",
    "        ax0.set_xscale('log')\n",
    "    #ax0.set_ylim([0, 250])\n",
    "    for xmaj in ax0.xaxis.get_majorticklocs():\n",
    "        ax0.axvline(x=xmaj, ls=':', color='gray', alpha=0.7, linewidth=1)\n",
    "    for ymaj in ax0.yaxis.get_majorticklocs():\n",
    "        ax0.axhline(y=ymaj, ls=':', color='gray', alpha=0.7, linewidth=1)\n",
    "    ax0.get_xaxis().set_ticks([])\n",
    "    ax0.set_ylabel(ylabel, size=18)\n",
    "    yticks = ax0.yaxis.get_major_ticks()\n",
    "    yticks[0].set_visible(False)\n",
    "    yticks[1].set_visible(False)\n",
    "    \n",
    "    energy_nw_0 = np.concatenate(([energy_nw[0]], energy_nw))\n",
    "    energy_w_0 = np.concatenate(([energy_w[0]], energy_w))\n",
    "    ax0.step(\n",
    "        binning, unumpy.nominal_values(energy_nw_0), alpha=1, color='red',\n",
    "        drawstyle='steps-pre', label='pythia params', linewidth=1.2, linestyle='-'\n",
    "    )\n",
    "    ax0.step(\n",
    "        binning, unumpy.nominal_values(energy_w_0), alpha=1, color='blue',\n",
    "        drawstyle='steps-pre', label=legendlabel, linewidth=1.2, linestyle='-'\n",
    "    )\n",
    "    ax0.errorbar(\n",
    "        centers, unumpy.nominal_values(energy_nw),\n",
    "        xerr=0, yerr=unumpy.std_devs(energy_nw),\n",
    "        capsize=0.7, alpha=1, color='red', linestyle='None', markersize=0.5, linewidth=1\n",
    "    )\n",
    "    ax0.errorbar(\n",
    "        centers, unumpy.nominal_values(energy_w),\n",
    "        xerr=0, yerr=unumpy.std_devs(energy_w),\n",
    "        capsize=0.7, alpha=1, color='blue', linestyle='None', markersize=0.5, linewidth=1\n",
    "    )\n",
    "    ax0.legend()\n",
    "    \n",
    "    text = r'hadron_DIS = {0}'.format(a)\n",
    "    at = AnchoredText(text, prop=dict(size=10), frameon=True, loc=2)\n",
    "    at.patch.set_boxstyle(\"round,pad=0.,rounding_size=0.2\")\n",
    "    ax0.add_artist(at)\n",
    "\n",
    "    ax1 = fig.add_subplot(gs[1])\n",
    "    if not is_linear(binning):\n",
    "        ax1.set_xscale('log')\n",
    "    ax1.set_xlim(np.min(binning), np.max(binning))\n",
    "    ax1.set_xlabel(r'$y_{eff}$', size=18)\n",
    "    ax1.set_ylabel('ratio', size=18)\n",
    "    ax1.set_ylim([0.8, 1.2])\n",
    "    for xmaj in ax1.xaxis.get_majorticklocs():\n",
    "        ax1.axvline(x=xmaj, ls=':', color='gray', alpha=0.7, linewidth=1)\n",
    "    for ymaj in ax1.yaxis.get_majorticklocs():\n",
    "        ax1.axhline(y=ymaj, ls=':', color='gray', alpha=0.7, linewidth=1)\n",
    "    \n",
    "    inv_mask = ~default_hist.mask & ~modified_hist.mask\n",
    "    ratio = unumpy.uarray(np.zeros(default_hist.shape).astype(float), np.zeros(default_hist.shape).astype(float))\n",
    "    \n",
    "    ratio[inv_mask] = energy_w[inv_mask] * (1 / energy_nw[inv_mask])\n",
    "    ratio = ma.masked_equal(ratio, 0)\n",
    "\n",
    "    ratio_0 = np.concatenate(([ratio[0]], ratio))\n",
    "    ax1.step(\n",
    "        binning, unumpy.nominal_values(ratio_0), alpha=1, color='blue',\n",
    "        drawstyle='steps-pre', linewidth=1.2, linestyle='-'\n",
    "    )\n",
    "    ax1.step(\n",
    "        binning, np.ones(ratio_0.shape), alpha=1,\n",
    "        color='red', drawstyle='steps-pre', linewidth=1.2, linestyle='-'\n",
    "    )\n",
    "    ax1.errorbar(\n",
    "        centers, unumpy.nominal_values(ratio),\n",
    "        xerr=0, yerr=unumpy.std_devs(ratio),\n",
    "        capsize=0.7, alpha=1, color='blue', linestyle='None', markersize=0.5, linewidth=1\n",
    "    )\n",
    "\n",
    "    fig.tight_layout()\n",
    "    fig.savefig('./images/hadronization/'+outname, bbox_inches='tight')"
   ]
  },
  {
   "cell_type": "code",
   "execution_count": 20,
   "metadata": {
    "collapsed": true
   },
   "outputs": [],
   "source": [
    "def make_histo(array, binning, weights):\n",
    "    hist, edges = np.histogram(array, bins=binning, weights=weights)\n",
    "    hist_2, edges = np.histogram(array, bins=binning, weights=weights**2)\n",
    "\n",
    "    u_hist = unumpy.uarray(hist, np.sqrt(hist_2))\n",
    "    return ma.masked_equal(u_hist, 0)"
   ]
  },
  {
   "cell_type": "code",
   "execution_count": 21,
   "metadata": {
    "collapsed": false
   },
   "outputs": [
    {
     "name": "stdout",
     "output_type": "stream",
     "text": [
      "[ 0.49030718  0.12887986  0.78205649 ...,  0.12950715  0.77234321\n",
      "  0.18647404]\n",
      "[ 0.99999449  0.99246163  0.99999998 ...,  0.99255491  0.99999998\n",
      "  0.99760522]\n"
     ]
    },
    {
     "name": "stderr",
     "output_type": "stream",
     "text": [
      "/data/mandalia/programs/anaconda2/envs/pisa/lib/python2.7/site-packages/numpy/ma/core.py:4144: UserWarning: Warning: converting a masked element to nan.\n",
      "  warnings.warn(\"Warning: converting a masked element to nan.\")\n"
     ]
    },
    {
     "data": {
      "image/png": "[encoded data removed]",
      "text/plain": [
       "<matplotlib.figure.Figure at 0x7fb72bd0c9d0>"
      ]
     },
     "metadata": {},
     "output_type": "display_data"
    },
    {
     "data": {
      "image/png": "[encoded data removed]",
      "text/plain": [
       "<matplotlib.figure.Figure at 0x7fb6fc99ca50>"
      ]
     },
     "metadata": {},
     "output_type": "display_data"
    }
   ],
   "source": [
    "binning = np.linspace(-0.2, 1.2, 30)\n",
    "#binning = np.logspace(-2.5, 0.1, 30)\n",
    "\n",
    "mask_d = default_yeff > 0.001\n",
    "default_yeff_m = default_yeff[mask_d]\n",
    "mask_m = modified_yeff > 0.001\n",
    "modified_yeff_m = modified_yeff[mask_m]\n",
    "\n",
    "default_hist = make_histo(default_yeff_m, binning, default_dict['wght'][mask_d])\n",
    "modified_hist = make_histo(modified_yeff_m, binning, modified_dict['wght'][mask_m])\n",
    "\n",
    "a = 0.05\n",
    "b = 2.*a\n",
    "print(default_yeff_m)\n",
    "rewght = 1./(1+b*np.exp(-default_yeff_m/a))\n",
    "print(rewght)\n",
    "reweighted_hist = make_histo(default_yeff_m, binning, default_dict['wght'][mask_d]*rewght)\n",
    "\n",
    "label=r'default w/ $\\left ( 1+2\\cdot {\\bf hadron\\_DIS}\\:\\cdot\\:e^{-y/{\\bf hadron\\_DIS}}\\right )^{-1}$ weight'\n",
    "make_plot(modified_hist, default_hist, binning, r'N', label, './nominal.png', 0.)\n",
    "make_plot(modified_hist, reweighted_hist, binning, r'N', label, './test_rw.png', a)"
   ]
  }
 ],
 "metadata": {
  "kernelspec": {
   "display_name": "Python [pisa]",
   "language": "python",
   "name": "Python [pisa]"
  },
  "language_info": {
   "codemirror_mode": {
    "name": "ipython",
    "version": 2
   },
   "file_extension": ".py",
   "mimetype": "text/x-python",
   "name": "python",
   "nbconvert_exporter": "python",
   "pygments_lexer": "ipython2",
   "version": "2.7.12"
  }
 },
 "nbformat": 4,
 "nbformat_minor": 0
}

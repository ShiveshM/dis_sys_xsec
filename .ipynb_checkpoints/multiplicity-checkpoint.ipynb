{
 "cells": [
  {
   "cell_type": "code",
   "execution_count": 1,
   "metadata": {
    "collapsed": true
   },
   "outputs": [],
   "source": [
    "%matplotlib inline"
   ]
  },
  {
   "cell_type": "code",
   "execution_count": 2,
   "metadata": {
    "collapsed": true
   },
   "outputs": [],
   "source": [
    "from __future__ import print_function"
   ]
  },
  {
   "cell_type": "code",
   "execution_count": 3,
   "metadata": {
    "collapsed": true
   },
   "outputs": [],
   "source": [
    "import h5py\n",
    "import cPickle as pickle"
   ]
  },
  {
   "cell_type": "code",
   "execution_count": 4,
   "metadata": {
    "collapsed": true
   },
   "outputs": [],
   "source": [
    "import numpy as np\n",
    "import matplotlib.pyplot as plt\n",
    "import matplotlib.gridspec as gridspec\n",
    "from mpl_toolkits.axes_grid.anchored_artists import AnchoredText"
   ]
  },
  {
   "cell_type": "code",
   "execution_count": 5,
   "metadata": {
    "collapsed": true
   },
   "outputs": [],
   "source": [
    "from ToyMC.utils.Utils import is_logarithmic"
   ]
  },
  {
   "cell_type": "code",
   "execution_count": 18,
   "metadata": {
    "collapsed": false
   },
   "outputs": [],
   "source": [
    "LEVEL = 0\n",
    "NAME = '16500'\n",
    "INFILE = NAME+'.pkl'\n",
    "WEIGHT_FILE = NAME+'_weights.hdf5'\n",
    "X_PARMS = ['Ws']\n",
    "X_LABEL = 'Ws'\n",
    "Y_PARMS = ['nfpip', 'nfpim', 'nfkp', 'nfkm', 'nfpi0', 'nfk0']\n",
    "#BINNING = np.logspace(0, 3, 100)\n",
    "BINNING =np.linspace(0, 4, 100)"
   ]
  },
  {
   "cell_type": "code",
   "execution_count": 7,
   "metadata": {
    "collapsed": false
   },
   "outputs": [],
   "source": [
    "infile = '/data/icecube/data/mlarson/level7_24Nov2015/GENIE_parms/level'+str(LEVEL)+'/'+INFILE\n",
    "inweights = '/data/icecube/data/mlarson/level7_24Nov2015/GENIE_parms/level'+str(LEVEL)+'/'+WEIGHT_FILE\n",
    "input_file = pickle.load(open(infile, 'rb'))\n",
    "if '16' in NAME:\n",
    "    weights = np.ones(len(input_file['cc']))\n",
    "else:\n",
    "    weights = np.array(h5py.File(inweights, 'r')['weights'][:])"
   ]
  },
  {
   "cell_type": "code",
   "execution_count": 8,
   "metadata": {
    "collapsed": false
   },
   "outputs": [
    {
     "name": "stdout",
     "output_type": "stream",
     "text": [
      "['A', 'Ef', 'Ei', 'El', 'En', 'Ev', 'KEf', 'KEl', 'Q2', 'Q2s', 'W', 'Ws', 'Z', '_azimax', '_azimin', '_elogmax', '_elogmin', '_glbprbscale', '_gvold', '_gvoll', '_gvolr', '_ngennu', '_plawind', '_zenmax', '_zenmin', 'calresp0', 'cc', 'charm', 'coh', 'dfr', 'diffxsec', 'dis', 'em', 'energy', 'hitnuc', 'hitqrk', 'iev', 'imd', 'nc', 'neu', 'neut_code', 'nf', 'nfem', 'nfk0', 'nfkm', 'nfkp', 'nfn', 'nfother', 'nfp', 'nfpi0', 'nfpim', 'nfpip', 'ni', 'niem', 'nik0', 'nikm', 'nikp', 'nin', 'niother', 'nip', 'nipi0', 'nipim', 'nipip', 'nuance_code', 'nuel', 'pdgf', 'pdgi', 'pdgl', 'prob', 'pxf', 'pxi', 'pxl', 'pxn', 'pxv', 'pyf', 'pyi', 'pyl', 'pyn', 'pyv', 'pzf', 'pzi', 'pzl', 'pzn', 'pzv', 'qel', 'res', 'resc', 'resid', 'rw_AhtBY', 'rw_BhtBY', 'rw_CV1uBY', 'rw_CV2uBY', 'rw_MaCCQE', 'rw_MaCCRES', 'rw_MaCOHpi', 'rw_MaNCEL', 'rw_MaNCRES', 'sea', 't', 'tgt', 'tgtmass', 'ts', 'vtxt', 'vtxx', 'vtxy', 'vtxz', 'wght', 'x', 'xs', 'xsec', 'y', 'ys']\n",
      "(440901,)\n"
     ]
    }
   ],
   "source": [
    "print(sorted(input_file.keys()))\n",
    "print(weights.shape)"
   ]
  },
  {
   "cell_type": "code",
   "execution_count": 9,
   "metadata": {
    "collapsed": false
   },
   "outputs": [
    {
     "name": "stdout",
     "output_type": "stream",
     "text": [
      "[ 1.  1.  1. ...,  1.  1.  1.]\n"
     ]
    }
   ],
   "source": [
    "if not np.sum(weights) == len(input_file['cc']):\n",
    "    weights *= 3600 * 24 * 365.\n",
    "    if LEVEL == 0:\n",
    "        weights /= 3.\n",
    "    elif LEVEL == 7:\n",
    "        if '12585' in INFILE:\n",
    "            weights /= 275.\n",
    "        elif '14585' in INFILE:\n",
    "            weights /= 245.\n",
    "else:\n",
    "    print(weights)"
   ]
  },
  {
   "cell_type": "code",
   "execution_count": 10,
   "metadata": {
    "collapsed": false
   },
   "outputs": [],
   "source": [
    "def make_plot_stack(hist, tot_hist, ylabel, outname):\n",
    "    names = ['qel', 'res', 'dis']\n",
    "    colours = ['blue', 'green', 'red']\n",
    "\n",
    "    fig = plt.figure(figsize=[10, 7])\n",
    "    if LEVEL == 0:\n",
    "        fig.suptitle('Level0 (Generator level) '+NAME, y=1.005)\n",
    "    elif LEVEL == 7:\n",
    "        fig.suptitle('Level7 (Final level) '+NAME, y=1.005)\n",
    "    gs = gridspec.GridSpec(1, 1)\n",
    "    gs0 = gridspec.GridSpecFromSubplotSpec(1, 1, subplot_spec=gs[0], hspace=0, height_ratios=[1] )\n",
    "    \n",
    "    ax0 = fig.add_subplot(gs0[0])\n",
    "    ax0.set_xlabel(X_LABEL, size=18)\n",
    "    ax0.set_xlim(np.min(BINNING), np.max(BINNING))\n",
    "    ax0.set_ylim([0, 6])\n",
    "    if is_logarithmic(BINNING):\n",
    "        ax0.set_xscale('log')\n",
    "    #ax0.set_yscale('log')\n",
    "    for xmaj in ax0.xaxis.get_majorticklocs():\n",
    "        ax0.axvline(x=xmaj, ls=':', color='gray', alpha=0.7, linewidth=1)\n",
    "    for ymaj in ax0.yaxis.get_majorticklocs():\n",
    "        ax0.axhline(y=ymaj, ls=':', color='gray', alpha=0.7, linewidth=1)\n",
    "    ax0.set_ylabel(ylabel, size=18)\n",
    "    \n",
    "    tot_hist_0 = np.concatenate(([tot_hist[0]], tot_hist))\n",
    "    ax0.step(\n",
    "        BINNING, tot_hist_0, alpha=0.8, color='black', drawstyle='steps-mid', label='all', linewidth=2, linestyle=':'\n",
    "    )\n",
    "\n",
    "    for idx, x in enumerate(hist):\n",
    "        x = np.concatenate(([x[0]], x))\n",
    "        p = ax0.step(\n",
    "            BINNING, x, alpha=1.0, color=colours[idx], drawstyle='steps-mid', label=names[idx], linewidth=1.4, linestyle='-'\n",
    "        )\n",
    "\n",
    "    ax0.legend()\n",
    "\n",
    "    fig.tight_layout()\n",
    "    # fig.savefig('./test.pdf', bbox_inches='tight')\n",
    "    fig.savefig(outname, bbox_inches='tight')"
   ]
  },
  {
   "cell_type": "code",
   "execution_count": 19,
   "metadata": {
    "collapsed": false
   },
   "outputs": [
    {
     "name": "stdout",
     "output_type": "stream",
     "text": [
      "0 nan values\n"
     ]
    },
    {
     "name": "stderr",
     "output_type": "stream",
     "text": [
      "/.data/mandalia/programs/anaconda2/envs/pisa/lib/python2.7/site-packages/ipykernel/__main__.py:44: RuntimeWarning: invalid value encountered in divide\n",
      "/.data/mandalia/programs/anaconda2/envs/pisa/lib/python2.7/site-packages/ipykernel/__main__.py:45: RuntimeWarning: invalid value encountered in divide\n",
      "/.data/mandalia/programs/anaconda2/envs/pisa/lib/python2.7/site-packages/ipykernel/__main__.py:46: RuntimeWarning: invalid value encountered in divide\n",
      "/.data/mandalia/programs/anaconda2/envs/pisa/lib/python2.7/site-packages/ipykernel/__main__.py:47: RuntimeWarning: invalid value encountered in divide\n"
     ]
    },
    {
     "data": {
      "image/png": "[encoded data removed]",
      "text/plain": [
       "<matplotlib.figure.Figure at 0x7f6aa8d4a190>"
      ]
     },
     "metadata": {},
     "output_type": "display_data"
    }
   ],
   "source": [
    "parm_array = np.zeros(len(input_file['cc']))\n",
    "y_array = np.zeros(len(input_file['cc']))\n",
    "for x in X_PARMS:\n",
    "    parm_array += input_file[x]\n",
    "nan_mask = np.isnan(parm_array)\n",
    "for y in Y_PARMS:\n",
    "    y_array += input_file[y]\n",
    "nan_mask = nan_mask | np.isnan(y_array)\n",
    "print('{0} nan values'.format(np.sum(nan_mask)))\n",
    "cc_mask = input_file['cc'].astype(bool)\n",
    "tot_mask = [~nan_mask & cc_mask]\n",
    "dis_hist, edges = np.histogram(\n",
    "    (parm_array[tot_mask])[input_file['dis'][tot_mask]], bins=BINNING,\n",
    "    weights=(weights[tot_mask])[input_file['dis'][tot_mask]]\n",
    ")\n",
    "dis_hist_y, edges = np.histogram(\n",
    "    (parm_array[tot_mask])[input_file['dis'][tot_mask]], bins=BINNING,\n",
    "    weights=(weights[tot_mask])[input_file['dis'][tot_mask]]*(y_array[tot_mask])[input_file['dis'][tot_mask]]\n",
    ")\n",
    "res_hist, edges = np.histogram(\n",
    "    (parm_array[tot_mask])[input_file['res'][tot_mask]], bins=BINNING,\n",
    "    weights=(weights[tot_mask])[input_file['res'][tot_mask]]\n",
    ")\n",
    "res_hist_y, edges = np.histogram(\n",
    "    (parm_array[tot_mask])[input_file['res'][tot_mask]], bins=BINNING,\n",
    "    weights=(weights[tot_mask])[input_file['res'][tot_mask]]*(y_array[tot_mask])[input_file['res'][tot_mask]]\n",
    ")\n",
    "qel_hist, edges = np.histogram(\n",
    "    (parm_array[tot_mask])[input_file['qel'][tot_mask]], bins=BINNING,\n",
    "    weights=(weights[tot_mask])[input_file['qel'][tot_mask]]\n",
    ")\n",
    "qel_hist_y, edges = np.histogram(\n",
    "    (parm_array[tot_mask])[input_file['qel'][tot_mask]], bins=BINNING,\n",
    "    weights=(weights[tot_mask])[input_file['qel'][tot_mask]]*(y_array[tot_mask])[input_file['qel'][tot_mask]]\n",
    ")\n",
    "all_hist, edges = np.histogram(\n",
    "    parm_array[tot_mask], bins=BINNING,\n",
    "    weights=weights[tot_mask]\n",
    ")\n",
    "all_hist_y, edges = np.histogram(\n",
    "    parm_array[tot_mask], bins=BINNING,\n",
    "    weights=weights[tot_mask]*y_array[tot_mask]\n",
    ")\n",
    "res_hist_avg = res_hist_y / res_hist.astype(float)\n",
    "dis_hist_avg = dis_hist_y / dis_hist.astype(float)\n",
    "qel_hist_avg = qel_hist_y / qel_hist.astype(float)\n",
    "all_hist_avg = all_hist_y / all_hist.astype(float)\n",
    "outfile = './images/level'+str(LEVEL)+'/'+X_LABEL+'/'+NAME+'_cc'\n",
    "make_plot_stack((qel_hist_avg, res_hist_avg, dis_hist_avg), all_hist_avg, r'Average Meson Multiplicity (CC)', outfile+'_multiplicity.png')"
   ]
  },
  {
   "cell_type": "code",
   "execution_count": null,
   "metadata": {
    "collapsed": false
   },
   "outputs": [
    {
     "name": "stdout",
     "output_type": "stream",
     "text": [
      "0 nan values\n"
     ]
    },
    {
     "name": "stderr",
     "output_type": "stream",
     "text": [
      "/.data/mandalia/programs/anaconda2/envs/pisa/lib/python2.7/site-packages/ipykernel/__main__.py:44: RuntimeWarning: invalid value encountered in divide\n",
      "/.data/mandalia/programs/anaconda2/envs/pisa/lib/python2.7/site-packages/ipykernel/__main__.py:45: RuntimeWarning: invalid value encountered in divide\n",
      "/.data/mandalia/programs/anaconda2/envs/pisa/lib/python2.7/site-packages/ipykernel/__main__.py:46: RuntimeWarning: invalid value encountered in divide\n",
      "/.data/mandalia/programs/anaconda2/envs/pisa/lib/python2.7/site-packages/ipykernel/__main__.py:47: RuntimeWarning: invalid value encountered in divide\n"
     ]
    },
    {
     "data": {
      "image/png": "[encoded data removed]",
      "text/plain": [
       "<matplotlib.figure.Figure at 0x7f6aa5990310>"
      ]
     },
     "metadata": {},
     "output_type": "display_data"
    }
   ],
   "source": [
    "parm_array = np.zeros(len(input_file['cc']))\n",
    "y_array = np.zeros(len(input_file['cc']))\n",
    "for x in X_PARMS:\n",
    "    parm_array += input_file[x]\n",
    "nan_mask = np.isnan(parm_array)\n",
    "for y in Y_PARMS:\n",
    "    y_array += input_file[y]\n",
    "nan_mask = nan_mask | np.isnan(y_array)\n",
    "print('{0} nan values'.format(np.sum(nan_mask)))\n",
    "nc_mask = input_file['nc'].astype(bool)\n",
    "tot_mask = [~nan_mask & nc_mask]\n",
    "dis_hist, edges = np.histogram(\n",
    "    (parm_array[tot_mask])[input_file['dis'][tot_mask]], bins=BINNING,\n",
    "    weights=(weights[tot_mask])[input_file['dis'][tot_mask]]\n",
    ")\n",
    "dis_hist_y, edges = np.histogram(\n",
    "    (parm_array[tot_mask])[input_file['dis'][tot_mask]], bins=BINNING,\n",
    "    weights=(weights[tot_mask])[input_file['dis'][tot_mask]]*(y_array[tot_mask])[input_file['dis'][tot_mask]]\n",
    ")\n",
    "res_hist, edges = np.histogram(\n",
    "    (parm_array[tot_mask])[input_file['res'][tot_mask]], bins=BINNING,\n",
    "    weights=(weights[tot_mask])[input_file['res'][tot_mask]]\n",
    ")\n",
    "res_hist_y, edges = np.histogram(\n",
    "    (parm_array[tot_mask])[input_file['res'][tot_mask]], bins=BINNING,\n",
    "    weights=(weights[tot_mask])[input_file['res'][tot_mask]]*(y_array[tot_mask])[input_file['res'][tot_mask]]\n",
    ")\n",
    "qel_hist, edges = np.histogram(\n",
    "    (parm_array[tot_mask])[input_file['qel'][tot_mask]], bins=BINNING,\n",
    "    weights=(weights[tot_mask])[input_file['qel'][tot_mask]]\n",
    ")\n",
    "qel_hist_y, edges = np.histogram(\n",
    "    (parm_array[tot_mask])[input_file['qel'][tot_mask]], bins=BINNING,\n",
    "    weights=(weights[tot_mask])[input_file['qel'][tot_mask]]*(y_array[tot_mask])[input_file['qel'][tot_mask]]\n",
    ")\n",
    "all_hist, edges = np.histogram(\n",
    "    parm_array[tot_mask], bins=BINNING,\n",
    "    weights=weights[tot_mask]\n",
    ")\n",
    "all_hist_y, edges = np.histogram(\n",
    "    parm_array[tot_mask], bins=BINNING,\n",
    "    weights=weights[tot_mask]*y_array[tot_mask]\n",
    ")\n",
    "res_hist_avg = res_hist_y / res_hist.astype(float)\n",
    "dis_hist_avg = dis_hist_y / dis_hist.astype(float)\n",
    "qel_hist_avg = qel_hist_y / qel_hist.astype(float)\n",
    "all_hist_avg = all_hist_y / all_hist.astype(float)\n",
    "outfile = './images/level'+str(LEVEL)+'/'+X_LABEL+'/'+NAME+'_nc'\n",
    "make_plot_stack((qel_hist_avg, res_hist_avg, dis_hist_avg), all_hist_avg, r'Average Meson Multiplicity (NC)', outfile+'_multiplicity.png')"
   ]
  },
  {
   "cell_type": "code",
   "execution_count": null,
   "metadata": {
    "collapsed": false
   },
   "outputs": [],
   "source": [
    "parm_array = np.zeros(len(input_file['cc']))\n",
    "y_array = np.zeros(len(input_file['cc']))\n",
    "for x in X_PARMS:\n",
    "    parm_array += input_file[x]\n",
    "nan_mask = np.isnan(parm_array)\n",
    "for y in Y_PARMS:\n",
    "    y_array += input_file[y]\n",
    "nan_mask = nan_mask | np.isnan(y_array)\n",
    "print('{0} nan values'.format(np.sum(nan_mask)))\n",
    "tot_mask = [~nan_mask]\n",
    "dis_hist, edges = np.histogram(\n",
    "    (parm_array[tot_mask])[input_file['dis'][tot_mask]], bins=BINNING,\n",
    "    weights=(weights[tot_mask])[input_file['dis'][tot_mask]]\n",
    ")\n",
    "dis_hist_y, edges = np.histogram(\n",
    "    (parm_array[tot_mask])[input_file['dis'][tot_mask]], bins=BINNING,\n",
    "    weights=(weights[tot_mask])[input_file['dis'][tot_mask]]*(y_array[tot_mask])[input_file['dis'][tot_mask]]\n",
    ")\n",
    "res_hist, edges = np.histogram(\n",
    "    (parm_array[tot_mask])[input_file['res'][tot_mask]], bins=BINNING,\n",
    "    weights=(weights[tot_mask])[input_file['res'][tot_mask]]\n",
    ")\n",
    "res_hist_y, edges = np.histogram(\n",
    "    (parm_array[tot_mask])[input_file['res'][tot_mask]], bins=BINNING,\n",
    "    weights=(weights[tot_mask])[input_file['res'][tot_mask]]*(y_array[tot_mask])[input_file['res'][tot_mask]]\n",
    ")\n",
    "qel_hist, edges = np.histogram(\n",
    "    (parm_array[tot_mask])[input_file['qel'][tot_mask]], bins=BINNING,\n",
    "    weights=(weights[tot_mask])[input_file['qel'][tot_mask]]\n",
    ")\n",
    "qel_hist_y, edges = np.histogram(\n",
    "    (parm_array[tot_mask])[input_file['qel'][tot_mask]], bins=BINNING,\n",
    "    weights=(weights[tot_mask])[input_file['qel'][tot_mask]]*(y_array[tot_mask])[input_file['qel'][tot_mask]]\n",
    ")\n",
    "all_hist, edges = np.histogram(\n",
    "    parm_array[tot_mask], bins=BINNING,\n",
    "    weights=weights[tot_mask]\n",
    ")\n",
    "all_hist_y, edges = np.histogram(\n",
    "    parm_array[tot_mask], bins=BINNING,\n",
    "    weights=weights[tot_mask]*y_array[tot_mask]\n",
    ")\n",
    "res_hist_avg = res_hist_y / res_hist.astype(float)\n",
    "dis_hist_avg = dis_hist_y / dis_hist.astype(float)\n",
    "qel_hist_avg = qel_hist_y / qel_hist.astype(float)\n",
    "all_hist_avg = all_hist_y / all_hist.astype(float)\n",
    "outfile = './images/level'+str(LEVEL)+'/'+X_LABEL+'/'+NAME+'_all'\n",
    "make_plot_stack((qel_hist_avg, res_hist_avg, dis_hist_avg), all_hist_avg, r'Average Meson Multiplicity (CC+NC)', outfile+'_multiplicity.png')"
   ]
  }
 ],
 "metadata": {
  "kernelspec": {
   "display_name": "Python [pisa]",
   "language": "python",
   "name": "Python [pisa]"
  },
  "language_info": {
   "codemirror_mode": {
    "name": "ipython",
    "version": 2
   },
   "file_extension": ".py",
   "mimetype": "text/x-python",
   "name": "python",
   "nbconvert_exporter": "python",
   "pygments_lexer": "ipython2",
   "version": "2.7.12"
  }
 },
 "nbformat": 4,
 "nbformat_minor": 0
}

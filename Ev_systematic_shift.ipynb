{
 "cells": [
  {
   "cell_type": "code",
   "execution_count": 40,
   "metadata": {
    "collapsed": true
   },
   "outputs": [],
   "source": [
    "%matplotlib inline"
   ]
  },
  {
   "cell_type": "code",
   "execution_count": 41,
   "metadata": {
    "collapsed": true
   },
   "outputs": [],
   "source": [
    "from __future__ import print_function\n",
    "import os"
   ]
  },
  {
   "cell_type": "code",
   "execution_count": 42,
   "metadata": {
    "collapsed": true
   },
   "outputs": [],
   "source": [
    "import ROOT\n",
    "import h5py"
   ]
  },
  {
   "cell_type": "code",
   "execution_count": 85,
   "metadata": {
    "collapsed": true
   },
   "outputs": [],
   "source": [
    "import numpy as np\n",
    "import numpy.ma as ma\n",
    "import matplotlib.pyplot as plt\n",
    "import matplotlib.gridspec as gridspec\n",
    "from mpl_toolkits.axes_grid.anchored_artists import AnchoredText"
   ]
  },
  {
   "cell_type": "code",
   "execution_count": 53,
   "metadata": {
    "collapsed": true
   },
   "outputs": [],
   "source": [
    "from uncertainties import ufloat, unumpy\n",
    "import pint\n",
    "ureg = pint.UnitRegistry()"
   ]
  },
  {
   "cell_type": "code",
   "execution_count": 54,
   "metadata": {
    "collapsed": false
   },
   "outputs": [
    {
     "name": "stdout",
     "output_type": "stream",
     "text": [
      "[14, 13, 18]\n"
     ]
    }
   ],
   "source": [
    "TYPE = 14\n",
    "NAME = r't_gevgen_{0}'.format(TYPE)\n",
    "DIR = '/data/mandalia/NuTeV'\n",
    "CACHE = DIR+'/cache.hdf5'\n",
    "Y_BINNING = np.array([0, 0.001, 0.05, 0.1, 0.2, 0.3, 0.4, 0.5, 0.6, 0.7, 0.8, 0.9, 0.97, 1.0])\n",
    "X_BINNING = np.array([0.0001, 0.03, 0.06, 0.1, 0.15, 0.2, 0.25, 0.3, 0.4, 0.5, 0.6, 0.7, 0.8])\n",
    "E_BINNING = np.array([30, 40, 50, 60, 70, 80, 90, 100, 120, 140, 160, 180, 200, 230, 260, 290, 320, 360])\n",
    "Y_CENTERS = np.array([0.0005, 0.026, 0.075, 0.15, 0.25, 0.35, 0.45, 0.55, 0.65, 0.75, 0.85, 0.935, 0.985])\n",
    "X_CENTERS = np.array([0.015, 0.045, 0.08, 0.125, 0.175, 0.225, 0.275, 0.35, 0.45, 0.55, 0.65, 0.75])\n",
    "E_CENTERS = np.array([35, 45, 55, 65, 75, 85, 95, 110, 130, 150, 170, 190, 215, 245, 275, 305, 340])\n",
    "print(map(len, (Y_BINNING, X_BINNING, E_BINNING)))\n",
    "IRON_MASS = 56 * ureg.u"
   ]
  },
  {
   "cell_type": "code",
   "execution_count": 46,
   "metadata": {
    "collapsed": false
   },
   "outputs": [
    {
     "name": "stdout",
     "output_type": "stream",
     "text": [
      "False\n"
     ]
    }
   ],
   "source": [
    "is_cache = False\n",
    "if os.path.isfile(CACHE):\n",
    "    is_cache = True\n",
    "print(is_cache)\n",
    "if not is_cache:\n",
    "    infiles = []\n",
    "    for file_name in os.listdir(DIR):\n",
    "        file_path = DIR + '/' + file_name\n",
    "        if os.path.isfile(file_path) and (file_path.endswith('.gst.root')):\n",
    "            infiles.append(ROOT.TFile(file_path))\n",
    "else:\n",
    "    h5file = h5py.File(CACHE, 'r')\n",
    "    for key in h5file.iterkeys():\n",
    "        locals().update(dict([(key, np.array(h5file[key][:]))]))\n",
    "    h5file.close()"
   ]
  },
  {
   "cell_type": "code",
   "execution_count": 18,
   "metadata": {
    "collapsed": true
   },
   "outputs": [],
   "source": [
    "def cache_events(in_arrays):\n",
    "    h5file = h5py.File(CACHE, 'w')\n",
    "    inarr_dict = dict(zip(STR_R, in_arrays))\n",
    "    for key in inarr_dict.iterkeys():\n",
    "        h5file.create_dataset(key, data=inarr_dict[key])\n",
    "    h5file.close()"
   ]
  },
  {
   "cell_type": "code",
   "execution_count": 52,
   "metadata": {
    "collapsed": false
   },
   "outputs": [
    {
     "name": "stdout",
     "output_type": "stream",
     "text": [
      "<ROOT.TFile object (\"/data/mandalia/NuTeV/nutev_nu_65.gst.root\") at 0x225c770>\n",
      "<ROOT.TFile object (\"/data/mandalia/NuTeV/nutev_nu_245.gst.root\") at 0x6b6f680>\n",
      "<ROOT.TFile object (\"/data/mandalia/NuTeV/nutev_antinu_65.gst.root\") at 0x6b7d570>\n",
      "<ROOT.TFile object (\"/data/mandalia/NuTeV/nutev_antinu_245.gst.root\") at 0x6b7ec30>\n",
      "<ROOT.TFile object (\"/data/mandalia/NuTeV/nutev_nu_150.gst.root\") at 0x6b844e0>\n",
      "<ROOT.TFile object (\"/data/mandalia/NuTeV/nutev_antinu_150.gst.root\") at 0x6b71950>\n",
      "[  1.01111402e-36   1.41518553e-35   2.89992882e-37 ...,   1.33057245e-36\n",
      "   3.59162321e-36   1.86616098e-36]\n",
      "(600000,)\n"
     ]
    }
   ],
   "source": [
    "STR_R = ['pdg_array', 'energy_array', 'y_array', 'x_array', 'dis_array', 'q2_array']\n",
    "if not is_cache:\n",
    "    pdg_array, energy_array, y_array, x_array, dis_array, q2_array = [], [], [], [], [], []\n",
    "    for r_file in infiles:\n",
    "        print(r_file)\n",
    "        for event in r_file.gst:\n",
    "            pdg_array.append(event.neu)\n",
    "            energy_array.append(event.Ev)\n",
    "            y_array.append(event.y)\n",
    "            x_array.append(event.x)\n",
    "            dis_array.append(event.dis)\n",
    "            q2_array.append(event.Q2)\n",
    "    pdg_array, energy_array, y_array, x_array, dis_array, q2_array = \\\n",
    "        map(np.array, (pdg_array, energy_array, y_array, x_array, dis_array, q2_array))\n",
    "    cache_events((pdg_array, energy_array, y_array, x_array, dis_array, q2_array))\n",
    "nu_mask = pdg_array > 0\n",
    "nubar_mask = pdg_array < 0\n",
    "print(xsec_array)\n",
    "print(xsec_array.shape)"
   ]
  },
  {
   "cell_type": "code",
   "execution_count": 137,
   "metadata": {
    "collapsed": false
   },
   "outputs": [
    {
     "name": "stdout",
     "output_type": "stream",
     "text": [
      "[ 1.28187827  1.41279385  1.16797873 ...,  1.21387222  1.11364917\n",
      "  0.96303244]\n",
      "[ 0.0388194   0.01468009  0.09843902 ...,  0.0669556   0.15850125\n",
      "  0.67780925]\n",
      "[ 0.60842666  0.759305    0.41330078 ...,  0.65796305  0.98212573\n",
      "  0.31454783]\n",
      "1.11917152146\n"
     ]
    },
    {
     "data": {
      "image/png": "[encoded data removed]",
      "text/plain": [
       "<matplotlib.figure.Figure at 0x7f5754f10a10>"
      ]
     },
     "metadata": {},
     "output_type": "display_data"
    }
   ],
   "source": [
    "#weights = np.ones(len(pdg_array))\n",
    "a = 0.1\n",
    "b = 0.9263\n",
    "weights = np.power(x_array, -a) * b\n",
    "print(weights)\n",
    "#plt.hist(weights)\n",
    "print(x_array)\n",
    "print(y_array)\n",
    "plt.hist(x_array[weights>1])\n",
    "print(np.sum(weights) / len(weights))"
   ]
  },
  {
   "cell_type": "code",
   "execution_count": 145,
   "metadata": {
    "collapsed": false
   },
   "outputs": [],
   "source": [
    "def make_plot(hist, asd, binning, outname):\n",
    "    fig = plt.figure(figsize=[10, 7])\n",
    "\n",
    "    ax0 = fig.add_subplot(111)\n",
    "    ax0.set_xlabel(r'Energy (GeV)', size=18)\n",
    "    ax0.set_xlim(np.min(binning), np.max(binning))\n",
    "    #ax0.set_ylim([0, 6])\n",
    "    for xmaj in ax0.xaxis.get_majorticklocs():\n",
    "        ax0.axvline(x=xmaj, ls=':', color='gray', alpha=0.7, linewidth=1)\n",
    "    for ymaj in ax0.yaxis.get_majorticklocs():\n",
    "        ax0.axhline(y=ymaj, ls=':', color='gray', alpha=0.7, linewidth=1)\n",
    "    ax0.set_ylabel('N', size=18)\n",
    "    \n",
    "    hist_0 = np.concatenate(([hist[0]], hist))\n",
    "    asd_0 = np.concatenate(([asd[0]], asd))\n",
    "    ax0.step(\n",
    "        binning, hist_0, alpha=0.8, color='black', drawstyle='steps-mid', label='all', linewidth=2, linestyle=':'\n",
    "    )\n",
    "    ax0.step(\n",
    "        binning, asd_0, alpha=0.8, color='red', drawstyle='steps-mid', label='all', linewidth=2, linestyle=':'\n",
    "    )\n",
    "\n",
    "    fig.tight_layout()\n",
    "    # fig.savefig('./test.pdf', bbox_inches='tight')\n",
    "    #fig.savefig(outname, bbox_inches='tight')"
   ]
  },
  {
   "cell_type": "code",
   "execution_count": 146,
   "metadata": {
    "collapsed": false
   },
   "outputs": [
    {
     "name": "stdout",
     "output_type": "stream",
     "text": [
      "[  2.88289176   1.36055552   4.96597847 ...,  12.40902409  43.84791939\n",
      "  60.0542024 ]\n",
      "[ 1.28187827  1.41279385  1.16797873 ...,  1.21387222  1.11364917\n",
      "  0.96303244]\n",
      "[  65.   65.   65. ...,  150.  150.  150.]\n",
      "[  25.45226684   15.64517529   38.13544937 ...,   51.30554307    2.68114048\n",
      "  102.8178259 ]\n",
      "1.06505499704\n"
     ]
    },
    {
     "data": {
      "image/png": "[encoded data removed]",
      "text/plain": [
       "<matplotlib.figure.Figure at 0x7f5747815490>"
      ]
     },
     "metadata": {},
     "output_type": "display_data"
    }
   ],
   "source": [
    "binning = np.linspace(10, 300, 100)\n",
    "\n",
    "x_array_w = x_array * weights\n",
    "print(q2_array)\n",
    "energy_calc = q2_array * (1-y_array) / (2 * y_array / 1.06505499704 * x_array)\n",
    "print(weights)\n",
    "print(energy_array)\n",
    "print(energy_calc)\n",
    "\n",
    "hist, edges = np.histogram(\n",
    "    energy_calc, bins=binning\n",
    ")\n",
    "make_plot(hist, hist_w, binning, 'asd.png')\n",
    "hist_w, edges = np.histogram(\n",
    "    energy_calc, bins=binning, weights=weights\n",
    ")\n",
    "#make_plot(hist_w, binning, 'asd.png')\n",
    "print(150 / 140.8377975)\n",
    "#print(65 / 61.02971225)"
   ]
  }
 ],
 "metadata": {
  "kernelspec": {
   "display_name": "Python [pisa]",
   "language": "python",
   "name": "Python [pisa]"
  },
  "language_info": {
   "codemirror_mode": {
    "name": "ipython",
    "version": 2
   },
   "file_extension": ".py",
   "mimetype": "text/x-python",
   "name": "python",
   "nbconvert_exporter": "python",
   "pygments_lexer": "ipython2",
   "version": "2.7.12"
  }
 },
 "nbformat": 4,
 "nbformat_minor": 0
}

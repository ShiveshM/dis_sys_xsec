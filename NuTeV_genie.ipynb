{
 "cells": [
  {
   "cell_type": "code",
   "execution_count": 1,
   "metadata": {
    "collapsed": true
   },
   "outputs": [],
   "source": [
    "%matplotlib inline"
   ]
  },
  {
   "cell_type": "code",
   "execution_count": 2,
   "metadata": {
    "collapsed": true
   },
   "outputs": [],
   "source": [
    "from __future__ import print_function\n",
    "import os"
   ]
  },
  {
   "cell_type": "code",
   "execution_count": 3,
   "metadata": {
    "collapsed": true
   },
   "outputs": [],
   "source": [
    "import ROOT\n",
    "import h5py"
   ]
  },
  {
   "cell_type": "code",
   "execution_count": 4,
   "metadata": {
    "collapsed": true
   },
   "outputs": [],
   "source": [
    "import numpy as np\n",
    "import numpy.ma as ma\n",
    "import matplotlib.pyplot as plt\n",
    "import matplotlib.gridspec as gridspec\n",
    "from mpl_toolkits.axes_grid.anchored_artists import AnchoredText"
   ]
  },
  {
   "cell_type": "code",
   "execution_count": 5,
   "metadata": {
    "collapsed": false
   },
   "outputs": [],
   "source": [
    "from uncertainties import ufloat, unumpy\n",
    "from ToyMC.utils.Utils import is_logarithmic, get_bin_centers, get_bin_sizes"
   ]
  },
  {
   "cell_type": "code",
   "execution_count": 6,
   "metadata": {
    "collapsed": false
   },
   "outputs": [],
   "source": [
    "TYPE = 14\n",
    "NAME = r'gevgen_{0}'.format(TYPE)\n",
    "CACHE = '/data/icecube/data/GENIE_level0/nutev/{0}/cache.hdf5'.format(TYPE)\n",
    "N_TARGET = 56\n",
    "Y_BINNING = np.array([0, 0.001, 0.05, 0.1, 0.2, 0.3, 0.4, 0.5, 0.6, 0.7, 0.8, 0.9, 1.0])\n",
    "#X_BINNING = np.logspace(-1.8, -0.10, 6)\n",
    "#X_BINNING = np.linspace(0, 1, 6)\n",
    "X_BINNING = np.array([0.0001, 0.03, 0.06, 0.1, 0.15, 0.2, 0.25, 0.3, 0.4, 0.5, 0.6, 0.7, 0.8])\n",
    "E_BINNING = np.array([30, 40, 50, 60, 70, 80, 90, 100, 120, 140, 160, 180, 200, 230, 260, 290, 320, 360])"
   ]
  },
  {
   "cell_type": "code",
   "execution_count": 7,
   "metadata": {
    "collapsed": false
   },
   "outputs": [
    {
     "name": "stdout",
     "output_type": "stream",
     "text": [
      "False\n"
     ]
    }
   ],
   "source": [
    "is_cache = False\n",
    "if os.path.isfile(CACHE):\n",
    "    is_cache = True\n",
    "print(is_cache)\n",
    "if not is_cache:\n",
    "    infile_nu = '/data/icecube/data/GENIE_level0/nutev/'+str(TYPE)+'/'+NAME+'.gst.root'\n",
    "    infile_nubar = '/data/icecube/data/GENIE_level0/nutev/'+str(TYPE)+'/'+r'gevgen_-{0}.gst.root'.format(TYPE)\n",
    "    input_file_nu = ROOT.TFile(infile_nu)\n",
    "    input_file_nubar = ROOT.TFile(infile_nubar)\n",
    "else:\n",
    "    h5file = h5py.File(CACHE, 'r')\n",
    "    for key in h5file.iterkeys():\n",
    "        locals().update(dict([(key, np.array(h5file[key][:]))]))\n",
    "    h5file.close()"
   ]
  },
  {
   "cell_type": "code",
   "execution_count": 8,
   "metadata": {
    "collapsed": false
   },
   "outputs": [],
   "source": [
    "def cache_events(in_arrays):\n",
    "    h5file = h5py.File(CACHE, 'w')\n",
    "    inarr_dict = dict(zip(STR_R, in_arrays))\n",
    "    for key in inarr_dict.iterkeys():\n",
    "        h5file.create_dataset(key, data=inarr_dict[key])\n",
    "    h5file.close()"
   ]
  },
  {
   "cell_type": "code",
   "execution_count": 9,
   "metadata": {
    "collapsed": false
   },
   "outputs": [
    {
     "name": "stdout",
     "output_type": "stream",
     "text": [
      "[  4.26148014e-36   3.20568848e-35   8.70505736e-36 ...,   3.86161249e-36\n",
      "   6.23341528e-36   6.18216997e-37]\n",
      "(2000000,)\n",
      "[ 1.  1.  1. ...,  1.  1.  1.]\n"
     ]
    }
   ],
   "source": [
    "STR_R = ['pdg_array', 'xsec_array', 'energy_array', 'y_array', 'x_array', 'dis_array', 'weights']\n",
    "if not is_cache:\n",
    "    pdg_array, xsec_array, energy_array, y_array, x_array, dis_array, weights = [], [], [], [], [], [], []\n",
    "    for event in input_file_nu.gst:\n",
    "        pdg_array.append(event.neu)\n",
    "        xsec_array.append(event.xsec * 1E-38)\n",
    "        energy_array.append(event.Ev)\n",
    "        y_array.append(event.y)\n",
    "        x_array.append(event.x)\n",
    "        dis_array.append(event.dis)\n",
    "        weights.append(event.wght)\n",
    "    for event in input_file_nubar.gst:\n",
    "        pdg_array.append(event.neu)\n",
    "        xsec_array.append(event.xsec * 1E-38)\n",
    "        energy_array.append(event.Ev)\n",
    "        y_array.append(event.y)\n",
    "        x_array.append(event.x)\n",
    "        dis_array.append(event.dis)\n",
    "        weights.append(event.wght)\n",
    "    pdg_array, xsec_array, energy_array, y_array, x_array, dis_array, weights = \\\n",
    "        map(np.array, (pdg_array, xsec_array, energy_array, y_array, x_array, dis_array, weights))\n",
    "    cache_events((pdg_array, xsec_array, energy_array, y_array, x_array, dis_array, weights))\n",
    "nu_mask = pdg_array > 0\n",
    "nubar_mask = pdg_array < 0\n",
    "print(xsec_array)\n",
    "print(xsec_array.shape)\n",
    "weights = np.ones(len(weights))\n",
    "print(weights)"
   ]
  },
  {
   "cell_type": "code",
   "execution_count": 10,
   "metadata": {
    "collapsed": false
   },
   "outputs": [],
   "source": [
    "def format_axis(ax, x_label=r'', title=r'', lhs=False, ylim=None):\n",
    "    ax.set_title(title)\n",
    "\n",
    "    ax.set_xlim(np.min(Y_BINNING), np.max(Y_BINNING))\n",
    "    for xmaj in ax.xaxis.get_majorticklocs():\n",
    "        ax.axvline(x=xmaj, ls=':', color='gray', alpha=0.4, linewidth=1)\n",
    "    if x_label == r'':\n",
    "        ax.get_xaxis().set_ticks([])\n",
    "    else:\n",
    "        ax.set_xlabel(x_label, fontsize=14)\n",
    "    if is_logarithmic(Y_BINNING):\n",
    "        ax.set_xscale('log')\n",
    "\n",
    "    ax.tick_params(axis='y', labelsize=10)\n",
    "    if not ylim is None:\n",
    "        ax.set_ylim(ylim)\n",
    "    #ax.set_ylim(1, 7000)\n",
    "    #ax.set_yscale('log')\n",
    "    for ymaj in ax.yaxis.get_majorticklocs():\n",
    "        ax.axhline(y=ymaj, ls=':', color='gray', alpha=0.4, linewidth=1)\n",
    "    if not lhs:\n",
    "        ax.get_yaxis().set_ticks([])\n",
    "        xticks = ax.xaxis.get_major_ticks()\n",
    "        try:\n",
    "            xticks[0].set_visible(False)\n",
    "        except:\n",
    "            pass\n",
    "    else:\n",
    "        yticks = ax.yaxis.get_major_ticks()\n",
    "        yticks[0].set_visible(False)\n",
    "\n",
    "def plot_histo(ax, array, weights, xsec_weights, energy, x_bw, colour):\n",
    "    #print('xsec_weights', xsec_weights)\n",
    "    hist, edges = np.histogram(array, bins=Y_BINNING, weights=weights)\n",
    "    hist_2, edges = np.histogram(array, bins=Y_BINNING, weights=weights**2)\n",
    "    hist_w, edges = np.histogram(array, bins=Y_BINNING, weights=weights*xsec_weights)\n",
    "    hist_w2, edges = np.histogram(array, bins=Y_BINNING, weights=(weights*xsec_weights)**2)\n",
    "\n",
    "    u_hist = unumpy.uarray(hist, np.sqrt(hist_2))\n",
    "    u_hist_w = unumpy.uarray(hist_w, np.sqrt(hist_w2))\n",
    "    #dsigma = u_hist_w / u_hist\n",
    "    dsigma, missing = [], []\n",
    "    for idx in xrange(len(u_hist)):\n",
    "        if u_hist[idx].n == 0:\n",
    "            dsigma.append(ufloat(0, 0))\n",
    "            missing.append(1)\n",
    "            continue\n",
    "        missing.append(0)\n",
    "        dsigma.append(u_hist_w[idx] / u_hist[idx])\n",
    "    dsigma, missing = np.array(dsigma), np.array(missing)\n",
    "\n",
    "    b_sizes = get_bin_sizes(Y_BINNING)\n",
    "    #print('b_sizes', b_sizes)\n",
    "    #print('divide_factors', divide_factors)\n",
    "    #print('b_sizes * divide_factors', b_sizes*divide_factors)\n",
    "    dsigma_dxdy = (dsigma / (b_sizes.astype(float) * energy * x_bw)) / (N_TARGET * 1E-38)\n",
    "    #print('dsigma_dxdy', unumpy.nominal_values(dsigma_dxdy))\n",
    "\n",
    "    dsigma_dxdy_0 = np.concatenate(([dsigma_dxdy[0]], dsigma_dxdy))\n",
    "    missing_0 = np.concatenate(([missing[0]], missing))\n",
    "    ax.step(\n",
    "        Y_BINNING, ma.masked_array(unumpy.nominal_values(dsigma_dxdy_0), mask=missing_0),\n",
    "        alpha=0.5, color=colour, drawstyle='steps-mid', linewidth=2, linestyle=':'\n",
    "    )\n",
    "\n",
    "    ax.errorbar(\n",
    "        Y_BINNING, ma.masked_array(unumpy.nominal_values(dsigma_dxdy_0), mask=missing_0),\n",
    "        xerr=0, yerr=ma.masked_array(unumpy.std_devs(dsigma_dxdy_0), mask=missing_0),\n",
    "        capsize=0.7, alpha=1, color=colour, linestyle='none', markersize=0.5, linewidth=1\n",
    "    )\n",
    "    \n",
    "    return dsigma"
   ]
  },
  {
   "cell_type": "code",
   "execution_count": 11,
   "metadata": {
    "collapsed": false
   },
   "outputs": [
    {
     "name": "stdout",
     "output_type": "stream",
     "text": [
      "E: 3, 64.8074069841\n"
     ]
    },
    {
     "ename": "NameError",
     "evalue": "name 'XS_BINNING' is not defined",
     "output_type": "error",
     "traceback": [
      "\u001b[1;31m---------------------------------------------------------------------------\u001b[0m",
      "\u001b[1;31mNameError\u001b[0m                                 Traceback (most recent call last)",
      "\u001b[1;32m<ipython-input-11-fa0c41f5ea8a>\u001b[0m in \u001b[0;36m<module>\u001b[1;34m()\u001b[0m\n\u001b[0;32m     26\u001b[0m \u001b[1;33m\u001b[0m\u001b[0m\n\u001b[0;32m     27\u001b[0m     \u001b[0mdsigma_nu\u001b[0m \u001b[1;33m=\u001b[0m \u001b[0mdsigma_nubar\u001b[0m \u001b[1;33m=\u001b[0m \u001b[1;36m0\u001b[0m\u001b[1;33m\u001b[0m\u001b[0m\n\u001b[1;32m---> 28\u001b[1;33m     \u001b[1;32mfor\u001b[0m \u001b[0mx_idx\u001b[0m\u001b[1;33m,\u001b[0m \u001b[0mx_bin\u001b[0m \u001b[1;32min\u001b[0m \u001b[0menumerate\u001b[0m\u001b[1;33m(\u001b[0m\u001b[0mXS_BINNING\u001b[0m\u001b[1;33m[\u001b[0m\u001b[1;33m:\u001b[0m\u001b[1;33m-\u001b[0m\u001b[1;36m1\u001b[0m\u001b[1;33m]\u001b[0m\u001b[1;33m)\u001b[0m\u001b[1;33m:\u001b[0m\u001b[1;33m\u001b[0m\u001b[0m\n\u001b[0m\u001b[0;32m     29\u001b[0m         \u001b[1;31m#if x_idx == 1: break\u001b[0m\u001b[1;33m\u001b[0m\u001b[1;33m\u001b[0m\u001b[0m\n\u001b[0;32m     30\u001b[0m         \u001b[1;31m#print(r'     x: {0}, {1}'.format(x_idx, x_bin_centers[x_idx]))\u001b[0m\u001b[1;33m\u001b[0m\u001b[1;33m\u001b[0m\u001b[0m\n",
      "\u001b[1;31mNameError\u001b[0m: name 'XS_BINNING' is not defined"
     ]
    },
    {
     "data": {
      "text/plain": [
       "<matplotlib.figure.Figure at 0x7f83adf28f90>"
      ]
     },
     "metadata": {},
     "output_type": "display_data"
    }
   ],
   "source": [
    "e_bin_centers = get_bin_centers(E_BINNING)\n",
    "x_bin_centers = get_bin_centers(X_BINNING)\n",
    "e_bin_sizes = get_bin_sizes(E_BINNING)\n",
    "x_bin_sizes = get_bin_sizes(X_BINNING)\n",
    "E_PLOT = [65, 150, 245]\n",
    "for e_idx, e_bin in enumerate(E_BINNING[:-1]):\n",
    "    e_cont = True\n",
    "    for x in E_PLOT:\n",
    "        if x >= e_bin and x < E_BINNING[e_idx + 1]:\n",
    "            e_cont = False\n",
    "    if e_cont:\n",
    "        continue\n",
    "    print(r'E: {0}, {1}'.format(e_idx, e_bin_centers[e_idx]))\n",
    "    energy_mask = (energy_array > e_bin) & (energy_array < E_BINNING[e_idx + 1])\n",
    "    xsec_weight = xsec_array[energy_mask]\n",
    "    y_array_e = y_array[energy_mask]\n",
    "    x_array_e = x_array[energy_mask]\n",
    "    weights_e = weights[energy_mask]\n",
    "    nu_mask_e = nu_mask[energy_mask]\n",
    "    nubar_mask_e = nubar_mask[energy_mask]\n",
    "\n",
    "    fig = plt.figure(figsize=[12, 14])\n",
    "    fig.suptitle('gevgen ID {0}'.format(TYPE), y=0.93)\n",
    "    gs = gridspec.GridSpec(len(X_BINNING)-1, 1)\n",
    "    gs.update(hspace=0., wspace=0.)\n",
    "    \n",
    "    dsigma_nu = dsigma_nubar = 0\n",
    "    for x_idx, x_bin in enumerate(XS_BINNING[:-1]):\n",
    "        #if x_idx == 1: break\n",
    "        #print(r'     x: {0}, {1}'.format(x_idx, x_bin_centers[x_idx]))\n",
    "        x_mask = (x_array_e > x_bin) & (x_array_e < X_BINNING[x_idx+1])\n",
    "        y_array_e_x = y_array_e[x_mask]\n",
    "        xsec_weight_x = xsec_weight[x_mask]\n",
    "        weights_e_x = weights_e[x_mask]\n",
    "        nu_mask_e_x = nu_mask_e[x_mask]\n",
    "        nubar_mask_e_x = nubar_mask_e[x_mask]\n",
    "        #print(r'     # events: {0}'.format(len(nu_mask_e_x)))\n",
    "        \n",
    "        gs0 = gridspec.GridSpecFromSubplotSpec(1, 2, subplot_spec=gs[x_idx],\n",
    "                                               wspace=0, hspace=0, width_ratios=[1,1])\n",
    "        ax0 = fig.add_subplot(gs0[0])\n",
    "        dsigma_nu_x = plot_histo(\n",
    "            ax0, y_array_e_x[nu_mask_e_x], weights_e_x[nu_mask_e_x],\n",
    "            xsec_weight_x[nu_mask_e_x], energy=e_bin_centers[e_idx],\n",
    "            x_bw=x_bin_sizes[x_idx], colour='red'\n",
    "        )       \n",
    "            \n",
    "        ax1 = fig.add_subplot(gs0[1])\n",
    "        dsigma_nubar_x = plot_histo(\n",
    "            ax1, y_array_e_x[nubar_mask_e_x], weights_e_x[nubar_mask_e_x],\n",
    "            xsec_weight_x[nubar_mask_e_x], energy=e_bin_centers[e_idx],\n",
    "            x_bw=x_bin_sizes[x_idx], colour='blue'\n",
    "        )\n",
    "\n",
    "        #ylim = (np.min([ax0.get_ylim()[0], ax1.get_ylim()[0]]),\n",
    "        #        np.max([ax0.get_ylim()[1], ax1.get_ylim()[1]]))\n",
    "        ylim = (0, 100)\n",
    "        ax0.set_ylim(ylim)\n",
    "        ax1.set_ylim(ylim)\n",
    "        if x_idx == 0:\n",
    "            format_axis(ax0, title=r'Neutrino', lhs=True)\n",
    "            format_axis(ax1, title=r'Anti-Neutrino')\n",
    "        elif x_idx == len(X_BINNING)-2:\n",
    "            format_axis(ax0, x_label=r'Y', lhs=True)\n",
    "            format_axis(ax1, x_label=r'Y')\n",
    "        else:\n",
    "            format_axis(ax0, lhs=True)\n",
    "            format_axis(ax1)\n",
    "        \n",
    "        at = AnchoredText(r'x = {0:.2f}'.format(x_bin_centers[x_idx]),\n",
    "                          prop=dict(size=10), frameon=True, loc=1)\n",
    "        at.patch.set_boxstyle(\"round,pad=0.,rounding_size=0.2\")\n",
    "        ax1.add_artist(at)\n",
    "        \n",
    "        fig.text(0.055, 0.5, r'$\\rm{1/E}$  $d^2\\sigma/\\rm{dx dy}$ $(\\times 10^{-38}\\rm{cm}^2/\\rm{GeV})$ per nucleon',\n",
    "                 rotation='vertical', va='center', size=20)\n",
    "        fig.text(0.5, 0.075, r'(E = {0:.2f} GeV)'.format(e_bin_centers[e_idx]), ha='center', size=20)\n",
    "        \n",
    "        dsigma_nu += np.sum(dsigma_nu_x * x_bin_sizes[x_idx])\n",
    "        dsigma_nubar += np.sum(dsigma_nubar_x * x_bin_sizes[x_idx])\n",
    "        \n",
    "        if x_idx == len(X_BINNING)-2:\n",
    "            at0 = AnchoredText(r'd$\\sigma_\\nu$ / E = {0:.2E}'.format(dsigma_nu.n / e_bin_centers[e_idx])\n",
    "                               +'\\n'+r'ratio to WA = {0:.2f}'.format(\n",
    "                    (dsigma_nu.n / e_bin_centers[e_idx]) / (0.677E-38 * N_TARGET)),\n",
    "                               prop=dict(size=10), frameon=True, loc=2)\n",
    "            at0.patch.set_boxstyle(\"round,pad=0.,rounding_size=0.2\")\n",
    "            ax0.add_artist(at0)\n",
    "            \n",
    "            at1 = AnchoredText(r'd$\\sigma_\\bar\\nu$ / E = {0:.2E}'.format(dsigma_nubar.n / e_bin_centers[e_idx])\n",
    "                               +'\\n'+r'ratio to WA = {0:.2f}'.format(\n",
    "                    (dsigma_nubar.n / e_bin_centers[e_idx]) / (0.334E-38 * N_TARGET)),\n",
    "                               prop=dict(size=10), frameon=True, loc=2)\n",
    "            at1.patch.set_boxstyle(\"round,pad=0.,rounding_size=0.2\")\n",
    "            ax1.add_artist(at1)\n",
    "            \n",
    "    print(r'd\\sigma_nu / E = {0}:  WA = {1}'.format(dsigma_nu.n / e_bin_centers[e_idx], 0.677E-38 * N_TARGET))\n",
    "    print(r'ratio {0}'.format((dsigma_nu.n / e_bin_centers[e_idx]) / (0.677E-38 * N_TARGET)))\n",
    "    print(r'd\\sigma_nubar / E = {0}:  WA = {1}'.format(dsigma_nubar.n / e_bin_centers[e_idx], 0.334E-38 * N_TARGET))\n",
    "    print(r'ratio {0}'.format((dsigma_nubar.n / e_bin_centers[e_idx]) / (0.334E-38 * N_TARGET)))\n",
    "        \n",
    "    fig.savefig('./images/NuTeV/generated/'+NAME+'_'+'{0:.2f}_.png'.format(e_bin_centers[e_idx]),\n",
    "                bbox_inches='tight')"
   ]
  },
  {
   "cell_type": "code",
   "execution_count": null,
   "metadata": {
    "collapsed": false
   },
   "outputs": [],
   "source": [
    "print(e_bin_centers, x_bin_centers, e_bin_sizes, x_bin_sizes)"
   ]
  }
 ],
 "metadata": {
  "kernelspec": {
   "display_name": "Python [pisa]",
   "language": "python",
   "name": "Python [pisa]"
  },
  "language_info": {
   "codemirror_mode": {
    "name": "ipython",
    "version": 2
   },
   "file_extension": ".py",
   "mimetype": "text/x-python",
   "name": "python",
   "nbconvert_exporter": "python",
   "pygments_lexer": "ipython2",
   "version": "2.7.12"
  }
 },
 "nbformat": 4,
 "nbformat_minor": 0
}
